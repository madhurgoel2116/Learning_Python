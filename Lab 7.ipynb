{
 "cells": [
  {
   "cell_type": "markdown",
   "metadata": {},
   "source": [
    "## 1. Write a program to multiply two numbers using functions."
   ]
  },
  {
   "cell_type": "code",
   "execution_count": 1,
   "metadata": {},
   "outputs": [
    {
     "name": "stdout",
     "output_type": "stream",
     "text": [
      "num1: 20\n",
      "num2: 10\n",
      "200\n"
     ]
    }
   ],
   "source": [
    "def mul(x,y):\n",
    "    z=x*y\n",
    "    return(z)\n",
    "\n",
    "x=int(input(\"num1: \"))\n",
    "y=int(input(\"num2: \"))\n",
    "z=mul(x,y)\n",
    "print (z)"
   ]
  },
  {
   "cell_type": "markdown",
   "metadata": {},
   "source": [
    " ## 2. Write a program to add two numbers using functions."
   ]
  },
  {
   "cell_type": "code",
   "execution_count": 2,
   "metadata": {},
   "outputs": [
    {
     "name": "stdout",
     "output_type": "stream",
     "text": [
      "num1: 10\n",
      "num2: 40\n",
      "50\n"
     ]
    }
   ],
   "source": [
    "def add(x,y):\n",
    "    z=x+y\n",
    "    return(z)\n",
    "\n",
    "x=int(input(\"num1: \"))\n",
    "y=int(input(\"num2: \"))\n",
    "z=add(x,y)\n",
    "print (z)"
   ]
  },
  {
   "cell_type": "markdown",
   "metadata": {},
   "source": [
    "## 3. Calculate factorial of a number using function."
   ]
  },
  {
   "cell_type": "code",
   "execution_count": 3,
   "metadata": {},
   "outputs": [
    {
     "name": "stdout",
     "output_type": "stream",
     "text": [
      "6\n",
      "720\n"
     ]
    }
   ],
   "source": [
    "def fact(n):\n",
    "    fact=1;\n",
    "    for i in range(n,0,-1):\n",
    "        fact=fact*i\n",
    "    return (fact)\n",
    "x=int(input())\n",
    "y=fact(x)\n",
    "print(y)"
   ]
  },
  {
   "cell_type": "markdown",
   "metadata": {},
   "source": [
    "## 4. Create sequence of Fibonacci using function."
   ]
  },
  {
   "cell_type": "code",
   "execution_count": 19,
   "metadata": {},
   "outputs": [
    {
     "name": "stdout",
     "output_type": "stream",
     "text": [
      "10\n",
      "1 1 2 3 5 8 13 21 34 55 89 144 "
     ]
    }
   ],
   "source": [
    "def fibonacci(n):\n",
    "    z=1\n",
    "    x=1\n",
    "    y=1\n",
    "    print(x, end=\" \")\n",
    "    print(y, end=\" \")\n",
    "    while(z<=n):\n",
    "        if n==1:\n",
    "            return(0)\n",
    "        elif n==2:\n",
    "            return(1)\n",
    "        else:\n",
    "            w=x+y\n",
    "            print(w,end=\" \")\n",
    "            x=y\n",
    "            y=w\n",
    "            z=z+1\n",
    "            \n",
    "x=int(input())\n",
    "fibonacci(x)"
   ]
  },
  {
   "cell_type": "markdown",
   "metadata": {},
   "source": [
    "## 5. Write a program to swapping of two numbers using functions."
   ]
  },
  {
   "cell_type": "code",
   "execution_count": 5,
   "metadata": {},
   "outputs": [
    {
     "name": "stdout",
     "output_type": "stream",
     "text": [
      "10\n",
      "20\n",
      "(20, 10)\n"
     ]
    }
   ],
   "source": [
    "a=int(input())\n",
    "b=int(input())\n",
    "def swap(m,n):\n",
    "    temp=m\n",
    "    m=n\n",
    "    n=temp\n",
    "    return(m,n)\n",
    "result=swap(a,b)\n",
    "print(result)"
   ]
  },
  {
   "cell_type": "markdown",
   "metadata": {},
   "source": [
    "## 6. Write a Program to find the HCF of some given numbers."
   ]
  },
  {
   "cell_type": "code",
   "execution_count": 6,
   "metadata": {},
   "outputs": [
    {
     "name": "stdout",
     "output_type": "stream",
     "text": [
      "Enter the First Number : 8\n",
      "Enter the Second Number : 10\n",
      "The H.C.F. is 2\n"
     ]
    }
   ],
   "source": [
    "def compute_hcf(x, y):\n",
    "    if x > y:\n",
    "        smaller = y\n",
    "    else:\n",
    "        smaller = x\n",
    "    for i in range(1, smaller+1):\n",
    "        if((x % i == 0) and (y % i == 0)):\n",
    "            hcf = i \n",
    "    return hcf\n",
    "\n",
    "num1 = int(input(\"Enter the First Number : \")) \n",
    "num2 = int(input(\"Enter the Second Number : \"))\n",
    "\n",
    "print(\"The H.C.F. is\", compute_hcf(num1, num2))"
   ]
  },
  {
   "cell_type": "markdown",
   "metadata": {},
   "source": [
    "## 7. Write a program to find the ASCII value of the character."
   ]
  },
  {
   "cell_type": "code",
   "execution_count": 7,
   "metadata": {},
   "outputs": [
    {
     "name": "stdout",
     "output_type": "stream",
     "text": [
      " Please Enter the Alphabet : A\n",
      "The ASCII value of 'A' is 65\n"
     ]
    }
   ],
   "source": [
    "c = (input(\" Please Enter the Alphabet : \")) \n",
    "print(\"The ASCII value of '\" + c + \"' is\", ord(c))"
   ]
  },
  {
   "cell_type": "markdown",
   "metadata": {},
   "source": [
    "## 8. Write a program that demonstrates the (built in function) mathematical functions."
   ]
  },
  {
   "cell_type": "code",
   "execution_count": 9,
   "metadata": {},
   "outputs": [
    {
     "data": {
      "text/plain": [
       "8"
      ]
     },
     "execution_count": 9,
     "metadata": {},
     "output_type": "execute_result"
    }
   ],
   "source": [
    "abs(-8)"
   ]
  },
  {
   "cell_type": "markdown",
   "metadata": {},
   "source": [
    "## 9. Write a program that demonstrates the (built in function) Date & Time functions."
   ]
  },
  {
   "cell_type": "code",
   "execution_count": 12,
   "metadata": {},
   "outputs": [
    {
     "ename": "SyntaxError",
     "evalue": "invalid syntax (<ipython-input-12-b9bad9ec7556>, line 1)",
     "output_type": "error",
     "traceback": [
      "\u001b[1;36m  File \u001b[1;32m\"<ipython-input-12-b9bad9ec7556>\"\u001b[1;36m, line \u001b[1;32m1\u001b[0m\n\u001b[1;33m    import Date Time\u001b[0m\n\u001b[1;37m                ^\u001b[0m\n\u001b[1;31mSyntaxError\u001b[0m\u001b[1;31m:\u001b[0m invalid syntax\n"
     ]
    }
   ],
   "source": [
    "import DateTime \n",
    "from DateTime import Date  \n",
    "print (\"Present date is : \",end=\"\") \n",
    "print (Date.today())"
   ]
  },
  {
   "cell_type": "markdown",
   "metadata": {},
   "source": [
    "## 10. Write a program that demonstrates Required arguments."
   ]
  },
  {
   "cell_type": "code",
   "execution_count": 13,
   "metadata": {},
   "outputs": [
    {
     "name": "stdout",
     "output_type": "stream",
     "text": [
      "calling function first time\n",
      "calling function second time\n"
     ]
    }
   ],
   "source": [
    "def printme(str):\n",
    "   \"This prints a passed string into this function\"\n",
    "   print (str)\n",
    "   return;\n",
    "\n",
    "printme(\"calling function first time\")\n",
    "printme(\"calling function second time\")"
   ]
  },
  {
   "cell_type": "markdown",
   "metadata": {},
   "source": [
    "## 11. Write a program that demonstrates keyword arguments."
   ]
  },
  {
   "cell_type": "code",
   "execution_count": 15,
   "metadata": {},
   "outputs": [
    {
     "name": "stdout",
     "output_type": "stream",
     "text": [
      "student1 student1_ln\n",
      "student2 student2_ln\n"
     ]
    }
   ],
   "source": [
    "def student(Firstname, Lastname):  \n",
    "     print(Firstname, Lastname)  \n",
    "                   \n",
    "student(Firstname ='student1', Lastname ='student1_ln')     \n",
    "student(Lastname ='student2_ln', Firstname ='student2')"
   ]
  },
  {
   "cell_type": "markdown",
   "metadata": {},
   "source": [
    "## 12. Write a program that demonstrates Default arguments."
   ]
  },
  {
   "cell_type": "code",
   "execution_count": 16,
   "metadata": {},
   "outputs": [
    {
     "name": "stdout",
     "output_type": "stream",
     "text": [
      "x:  100\n",
      "y:  500\n"
     ]
    }
   ],
   "source": [
    "def myFun(x, y=500): \n",
    "    print(\"x: \", x) \n",
    "    print(\"y: \", y) \n",
    "  \n",
    "myFun(100)"
   ]
  },
  {
   "cell_type": "markdown",
   "metadata": {},
   "source": [
    "## 13. Write a program that demonstrates Variable –length arguments."
   ]
  },
  {
   "cell_type": "code",
   "execution_count": 17,
   "metadata": {},
   "outputs": [
    {
     "name": "stdout",
     "output_type": "stream",
     "text": [
      "My\n",
      "name\n",
      "is\n",
      "Madhur\n"
     ]
    }
   ],
   "source": [
    "  def myFun(*yluj):  \n",
    "    for arg in yluj:  \n",
    "        print (arg) \n",
    "    \n",
    "myFun('My', 'name', 'is', 'Madhur')"
   ]
  }
 ],
 "metadata": {
  "kernelspec": {
   "display_name": "Python 3",
   "language": "python",
   "name": "python3"
  },
  "language_info": {
   "codemirror_mode": {
    "name": "ipython",
    "version": 3
   },
   "file_extension": ".py",
   "mimetype": "text/x-python",
   "name": "python",
   "nbconvert_exporter": "python",
   "pygments_lexer": "ipython3",
   "version": "3.8.5"
  }
 },
 "nbformat": 4,
 "nbformat_minor": 4
}
