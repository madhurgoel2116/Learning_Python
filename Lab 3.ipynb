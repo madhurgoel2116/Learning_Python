{
 "cells": [
  {
   "cell_type": "markdown",
   "metadata": {},
   "source": [
    "## 1. Write a program to demonstrate while loop with else statement."
   ]
  },
  {
   "cell_type": "code",
   "execution_count": 1,
   "metadata": {},
   "outputs": [
    {
     "name": "stdout",
     "output_type": "stream",
     "text": [
      "1\n",
      "2\n",
      "3\n",
      "No More!\n"
     ]
    }
   ],
   "source": [
    "i = 1\n",
    "while i<4:\n",
    "    print(i)\n",
    "    i+=1\n",
    "else:\n",
    "    print(\"No More!\")"
   ]
  },
  {
   "cell_type": "markdown",
   "metadata": {},
   "source": [
    "## 2. Write a program tp print first five even numbers(use break statement)."
   ]
  },
  {
   "cell_type": "code",
   "execution_count": 2,
   "metadata": {},
   "outputs": [
    {
     "name": "stdout",
     "output_type": "stream",
     "text": [
      "2\n",
      "4\n",
      "6\n",
      "8\n",
      "10\n"
     ]
    }
   ],
   "source": [
    "n = 2\n",
    "while True:\n",
    "    print(n)\n",
    "    n+=2\n",
    "    if n>10:\n",
    "        break\n",
    "        print(n)"
   ]
  },
  {
   "cell_type": "markdown",
   "metadata": {},
   "source": [
    "## 3. Write a program to print first four numbers(use continue statement)."
   ]
  },
  {
   "cell_type": "code",
   "execution_count": 3,
   "metadata": {},
   "outputs": [
    {
     "name": "stdout",
     "output_type": "stream",
     "text": [
      "2\n",
      "4\n",
      "6\n",
      "8\n"
     ]
    }
   ],
   "source": [
    "for i in range(2,10):\n",
    "    if i % 2:\n",
    "        continue\n",
    "    print(i)"
   ]
  },
  {
   "cell_type": "markdown",
   "metadata": {},
   "source": [
    "## 4. Write a program to demonstrate pass statement."
   ]
  },
  {
   "cell_type": "code",
   "execution_count": 4,
   "metadata": {},
   "outputs": [
    {
     "name": "stdout",
     "output_type": "stream",
     "text": [
      "Python is my favourite language\n"
     ]
    }
   ],
   "source": [
    "i = 4\n",
    "if i>0:\n",
    "    pass\n",
    "print(\"Python is my favourite language\")"
   ]
  },
  {
   "cell_type": "markdown",
   "metadata": {},
   "source": [
    "## 5. Write a program to calculate length of a string."
   ]
  },
  {
   "cell_type": "code",
   "execution_count": 5,
   "metadata": {},
   "outputs": [
    {
     "data": {
      "text/plain": [
       "6"
      ]
     },
     "execution_count": 5,
     "metadata": {},
     "output_type": "execute_result"
    }
   ],
   "source": [
    "name = \"MADHUR\"\n",
    "len(name)"
   ]
  },
  {
   "cell_type": "markdown",
   "metadata": {},
   "source": [
    "## 6. Write a program to count the number of characters in a string."
   ]
  },
  {
   "cell_type": "code",
   "execution_count": 6,
   "metadata": {},
   "outputs": [
    {
     "name": "stdout",
     "output_type": "stream",
     "text": [
      "Please Enter a String : Chirag is my friend\n",
      "Total Number of Characters in this String =  19\n"
     ]
    }
   ],
   "source": [
    "str1 = input(\"Please Enter a String : \")\n",
    "total = 0\n",
    "for i in str1:\n",
    "    total = total + 1\n",
    "print(\"Total Number of Characters in this String = \", total)"
   ]
  },
  {
   "cell_type": "markdown",
   "metadata": {},
   "source": [
    "## 7. Write a program to get a string made of the first 2 and the last 2 chars from a given a string. If the string length is less than 2, return instead of the empty string."
   ]
  },
  {
   "cell_type": "code",
   "execution_count": 7,
   "metadata": {},
   "outputs": [
    {
     "name": "stdout",
     "output_type": "stream",
     "text": [
      "Input String = AnacondaIsWorst\n",
      "New String =  Anst\n"
     ]
    }
   ],
   "source": [
    "inputString=\"AnacondaIsWorst\"\n",
    "l=len(inputString)\n",
    "newString=\" \"\n",
    "\n",
    "for i in range (0,len(inputString)):\n",
    "    if l<3:\n",
    "        break\n",
    "    else:\n",
    "        if i in (0,1,l-2,l-1):\n",
    "            newString=newString+inputString[i]\n",
    "        else:\n",
    "            continue\n",
    "            \n",
    "print(\"Input String = \" + inputString)\n",
    "print(\"New String = \" + newString)"
   ]
  },
  {
   "cell_type": "markdown",
   "metadata": {},
   "source": [
    "## 8. Write a program to get a string from a given string where all occurrences of its first char have been changed to '$', except the first char itself."
   ]
  },
  {
   "cell_type": "code",
   "execution_count": 8,
   "metadata": {},
   "outputs": [
    {
     "name": "stdout",
     "output_type": "stream",
     "text": [
      "o$mpal$$mpa\n"
     ]
    }
   ],
   "source": [
    "def specialreplace(s):\n",
    "    firstchar = s[0]\n",
    "    modifiedstr = s[1:].replace(firstchar, \"$\")\n",
    "    print(firstchar + modifiedstr)\n",
    "\n",
    "specialreplace('oompaloompa')"
   ]
  },
  {
   "cell_type": "markdown",
   "metadata": {},
   "source": [
    "## 9. Write a program to get a single string from two given strings, separated by a space and swap the first two characters of each string."
   ]
  },
  {
   "cell_type": "code",
   "execution_count": 9,
   "metadata": {},
   "outputs": [
    {
     "name": "stdout",
     "output_type": "stream",
     "text": [
      "xyc abz\n"
     ]
    }
   ],
   "source": [
    "def chars_mix_up(a, b):\n",
    "  new_a = b[:2] + a[2:]\n",
    "  new_b = a[:2] + b[2:]\n",
    "\n",
    "  return new_a + ' ' + new_b\n",
    "print(chars_mix_up('abc', 'xyz'))"
   ]
  },
  {
   "cell_type": "markdown",
   "metadata": {},
   "source": [
    "## 10. Write a program to add 'ing' at the end of a given string (length should be at least 3). If the given string already ends with 'ing' then add 'ly' instead. If the string length of the given string is less than 3, leave it unchanged."
   ]
  },
  {
   "cell_type": "code",
   "execution_count": 10,
   "metadata": {},
   "outputs": [
    {
     "name": "stdout",
     "output_type": "stream",
     "text": [
      "ab\n",
      "mixing\n",
      "fixingly\n"
     ]
    }
   ],
   "source": [
    "def add_string(str1):\n",
    "  length = len(str1)\n",
    "\n",
    "  if length > 2:\n",
    "    if str1[-3:] == 'ing':\n",
    "      str1 += 'ly'\n",
    "    else:\n",
    "      str1 += 'ing'\n",
    "\n",
    "  return str1\n",
    "print(add_string('ab'))\n",
    "print(add_string('mix'))\n",
    "print(add_string('fixing'))"
   ]
  }
 ],
 "metadata": {
  "kernelspec": {
   "display_name": "Python 3",
   "language": "python",
   "name": "python3"
  },
  "language_info": {
   "codemirror_mode": {
    "name": "ipython",
    "version": 3
   },
   "file_extension": ".py",
   "mimetype": "text/x-python",
   "name": "python",
   "nbconvert_exporter": "python",
   "pygments_lexer": "ipython3",
   "version": "3.8.5"
  }
 },
 "nbformat": 4,
 "nbformat_minor": 4
}
