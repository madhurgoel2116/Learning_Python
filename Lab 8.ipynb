{
 "cells": [
  {
   "cell_type": "markdown",
   "metadata": {},
   "source": [
    "## 1. Write a Python program that create a class triangle and define two methods, create_triangle() and print_sides()."
   ]
  },
  {
   "cell_type": "code",
   "execution_count": 1,
   "metadata": {},
   "outputs": [],
   "source": [
    "class triangle:\n",
    "    def create_triangle(self):\n",
    "        print('create_triangle')\n",
    "\n",
    "    def print_sides(self):\n",
    "        print('print sides')"
   ]
  },
  {
   "cell_type": "markdown",
   "metadata": {},
   "source": [
    "## 2. Write a Python program to create a class with two methods get_String() and print_String()."
   ]
  },
  {
   "cell_type": "code",
   "execution_count": 2,
   "metadata": {},
   "outputs": [],
   "source": [
    "class xyz:\n",
    "    def get_string(self):\n",
    "        print('get_string')\n",
    "        \n",
    "    def print_string(self):\n",
    "        print('print_string')"
   ]
  },
  {
   "cell_type": "markdown",
   "metadata": {},
   "source": [
    "## 3. Write a Python program to create a class Rectangle that takes the parameter length and width. The class should also contain a method for computing its perimeter."
   ]
  },
  {
   "cell_type": "code",
   "execution_count": 3,
   "metadata": {},
   "outputs": [],
   "source": [
    "class Rectangle:\n",
    "    def _init_(self,length,width):\n",
    "        self.length = length\n",
    "        self.width = width\n",
    "        \n",
    "    def perimeter(self):\n",
    "        return 2 * (self.length + self.width)"
   ]
  },
  {
   "cell_type": "markdown",
   "metadata": {},
   "source": [
    "## 4.  Write a Python program to create a class Circle that takes the parameter radius. The class should also contain two methods for computing its area & perimeter respectively. Use constructor to implement initialization of parameters."
   ]
  },
  {
   "cell_type": "code",
   "execution_count": 4,
   "metadata": {},
   "outputs": [],
   "source": [
    "class circle:\n",
    "    def _init_(self,radius):\n",
    "        self.radius = radius\n",
    "        \n",
    "    def area(self):\n",
    "        return 3.14 * self.radius * self.radius\n",
    "    \n",
    "    def perimeter(self):\n",
    "        return 2 * 3.14 * self.radius"
   ]
  },
  {
   "cell_type": "markdown",
   "metadata": {},
   "source": [
    "## 5.Create a Circle class and initialize it with radius. Make two methods get Area and get Circumference inside this class."
   ]
  },
  {
   "cell_type": "code",
   "execution_count": 9,
   "metadata": {},
   "outputs": [],
   "source": [
    "class circle:\n",
    "    def _init_(self,radius):\n",
    "        self.radius = radius\n",
    "        \n",
    "    def area(self):\n",
    "        return 3.14 * self.radius * self.radius\n",
    "    \n",
    "    def perimeter(self):\n",
    "        return 2 * 3.14 * self.radius"
   ]
  },
  {
   "cell_type": "markdown",
   "metadata": {},
   "source": [
    "## 6. Create a Temperature class. Make two methods:\n",
    "##### a)\tConvert Fahrenheit - It will take Celsius and will print it into Fahrenheit.\n",
    "##### b)\tConvert Celsius - It will take Fahrenheit and will convert it into Celsius."
   ]
  },
  {
   "cell_type": "code",
   "execution_count": null,
   "metadata": {},
   "outputs": [],
   "source": [
    "class temperature:\n",
    "    def fahrenhiet(self):\n",
    "        return (9 * cel)/5 + 32\n",
    "    \n",
    "    def convertCelsius(self,fah):\n",
    "        return (5 * fah)/9 - 32"
   ]
  },
  {
   "cell_type": "markdown",
   "metadata": {},
   "source": [
    "## 7. Create a Student class and initialize it with name and roll number. Make methods to:\n",
    "##### 1. Display - It should display all information’s of the student.\n",
    "##### 2. SetAge - It should assign age to student.\n",
    "##### 3. SetMarks - It should assign marks to the student."
   ]
  },
  {
   "cell_type": "code",
   "execution_count": 19,
   "metadata": {},
   "outputs": [
    {
     "name": "stdout",
     "output_type": "stream",
     "text": [
      "('Madhur', '2k20CSUN03005', 90)\n"
     ]
    }
   ],
   "source": [
    "class student:\n",
    "    def basic_profile(self):\n",
    "        return (self.name,self.rollno, self.marks,self.age)\n",
    "    \n",
    "stu1=Student()\n",
    "stu1.name=\"Madhur\"\n",
    "stu1.rollno=\"2k20CSUN03005\"\n",
    "stu1.marks=90\n",
    "stu1.age= 18\n",
    "print(stu1.basic_profile())"
   ]
  },
  {
   "cell_type": "markdown",
   "metadata": {},
   "source": [
    "## 8. Write a Python class to reverse a string word by word."
   ]
  },
  {
   "cell_type": "code",
   "execution_count": 11,
   "metadata": {},
   "outputs": [],
   "source": [
    "class reverse_String:\n",
    "    def reverse(self,string):\n",
    "        word = \"\"\n",
    "        sentence_list = []\n",
    "        for x in range(0,len(string)):\n",
    "            if string[x] == ' ':\n",
    "                sentence_list.append(word)\n",
    "                word = \"\"\n",
    "            else:\n",
    "                word = word + string[x]\n",
    "        \n",
    "        for x in range(0,len(sentence_list)):\n",
    "            word = word + ' ' + sentence_list[x]\n",
    "        \n",
    "        print(word)"
   ]
  },
  {
   "cell_type": "code",
   "execution_count": null,
   "metadata": {},
   "outputs": [],
   "source": []
  }
 ],
 "metadata": {
  "kernelspec": {
   "display_name": "Python 3",
   "language": "python",
   "name": "python3"
  },
  "language_info": {
   "codemirror_mode": {
    "name": "ipython",
    "version": 3
   },
   "file_extension": ".py",
   "mimetype": "text/x-python",
   "name": "python",
   "nbconvert_exporter": "python",
   "pygments_lexer": "ipython3",
   "version": "3.8.5"
  }
 },
 "nbformat": 4,
 "nbformat_minor": 4
}
