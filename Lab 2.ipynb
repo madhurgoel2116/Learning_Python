{
 "cells": [
  {
   "cell_type": "markdown",
   "metadata": {},
   "source": [
    "# Q1. Check whether a number is even or odd."
   ]
  },
  {
   "cell_type": "code",
   "execution_count": 3,
   "metadata": {},
   "outputs": [
    {
     "name": "stdout",
     "output_type": "stream",
     "text": [
      "Even number\n"
     ]
    }
   ],
   "source": [
    "x=1234\n",
    "\n",
    "if(x%2==0):\n",
    "    print(\"Even number\")\n",
    "else: print(\"Odd number\")"
   ]
  },
  {
   "cell_type": "markdown",
   "metadata": {},
   "source": [
    "# Q2. Check whether an entered year is leap year or not."
   ]
  },
  {
   "cell_type": "code",
   "execution_count": 3,
   "metadata": {},
   "outputs": [
    {
     "name": "stdout",
     "output_type": "stream",
     "text": [
      "Enter the year: 2003\n",
      "It is a Non-leap year\n"
     ]
    }
   ],
   "source": [
    "y=int(input(\"Enter the year: \"))\n",
    "if(y%4==0):\n",
    "    print(\"It is a Leap year\")\n",
    "else: print(\"It is a Non-leap year\")"
   ]
  },
  {
   "cell_type": "markdown",
   "metadata": {},
   "source": [
    "# Q3. Write a program to check whether a character is vowel or consonants."
   ]
  },
  {
   "cell_type": "code",
   "execution_count": 12,
   "metadata": {},
   "outputs": [
    {
     "name": "stdout",
     "output_type": "stream",
     "text": [
      "Enter a character: Y\n",
      "consonant\n"
     ]
    }
   ],
   "source": [
    "x=input(\"Enter a character: \")\n",
    "if x in \"aeiouAEIOU\":\n",
    "    print(\"vowel\")\n",
    "else:\n",
    "    print(\"consonant\")"
   ]
  },
  {
   "cell_type": "markdown",
   "metadata": {},
   "source": [
    "# Q4. Write a program to find the smallest of two numbers."
   ]
  },
  {
   "cell_type": "code",
   "execution_count": 3,
   "metadata": {},
   "outputs": [
    {
     "name": "stdout",
     "output_type": "stream",
     "text": [
      "Enter first number: 12\n",
      "Enter second number: 29\n",
      "Smallest = 12\n"
     ]
    }
   ],
   "source": [
    "num1 = float(input('Enter first number: '))\n",
    "num2 = float(input('Enter second number: '))\n",
    "if num1 < num2:\n",
    "    small = num1\n",
    "else:\n",
    "    small = num2\n",
    "\n",
    "print('Smallest = %d' %(small))"
   ]
  },
  {
   "cell_type": "markdown",
   "metadata": {},
   "source": [
    "# Q5. Find the Factorial of a Number."
   ]
  },
  {
   "cell_type": "code",
   "execution_count": 13,
   "metadata": {},
   "outputs": [
    {
     "name": "stdout",
     "output_type": "stream",
     "text": [
      "Enter a number =5\n",
      "Factorial of 5 = 120\n"
     ]
    }
   ],
   "source": [
    "a=int(input('Enter a number ='))\n",
    "x=1\n",
    "for i in range(1,a+1):\n",
    "  x=x*i\n",
    "print ('Factorial of', a, '=',x)"
   ]
  },
  {
   "cell_type": "markdown",
   "metadata": {},
   "source": [
    "# Q6. Write a program to print this patterns."
   ]
  },
  {
   "cell_type": "code",
   "execution_count": 9,
   "metadata": {},
   "outputs": [
    {
     "name": "stdout",
     "output_type": "stream",
     "text": [
      "Enter the number of rows: 4\n",
      "      *   \n",
      "     *  *   \n",
      "    *  *  *   \n",
      "   *  *  *  *   \n"
     ]
    }
   ],
   "source": [
    "n = int(input(\"Enter the number of rows: \"))  \n",
    "m = (2 * n) - 2  \n",
    "for i in range(0, n):  \n",
    "    for j in range(0, m):  \n",
    "        print(end=\" \")  \n",
    "    m = m - 1 \n",
    "    for j in range(0, i + 1):\n",
    "        print(\"* \", end=' ')  \n",
    "    print(\" \")  "
   ]
  },
  {
   "cell_type": "markdown",
   "metadata": {},
   "source": [
    "# Q7. Write a program to print this series.\n",
    "             1 1 2 3 5 8 13 \n"
   ]
  },
  {
   "cell_type": "code",
   "execution_count": 1,
   "metadata": {},
   "outputs": [
    {
     "name": "stdout",
     "output_type": "stream",
     "text": [
      "enter number of terms: 7\n",
      "0 1  1 1 2 3 5 8 13 "
     ]
    }
   ],
   "source": [
    "a=int(input(\"enter number of terms: \"))\n",
    "b=0\n",
    "c=1\n",
    "print(b,c,end=\"  \")\n",
    "for i in range(0,a):\n",
    "    print(b+c,end=\" \")\n",
    "    c=b+c\n",
    "    b,c=c,b"
   ]
  },
  {
   "cell_type": "markdown",
   "metadata": {},
   "source": [
    "# Q8. Check whether a number is prime or not."
   ]
  },
  {
   "cell_type": "code",
   "execution_count": 46,
   "metadata": {},
   "outputs": [
    {
     "name": "stdout",
     "output_type": "stream",
     "text": [
      "Enter number: 7\n",
      "PRIME\n"
     ]
    }
   ],
   "source": [
    "x = int(input(\"Enter number: \"))\n",
    "y = 1\n",
    "for i in range(2,int(x/1)):\n",
    "    if x%i==0:\n",
    "        y=0\n",
    "        break\n",
    "\n",
    "if y==1 and x>=i:\n",
    "    print(\"PRIME\")\n",
    "else:\n",
    "    print(\"NOT PRIME\")"
   ]
  },
  {
   "cell_type": "markdown",
   "metadata": {},
   "source": [
    "# Q9. Make a Simple Calculator."
   ]
  },
  {
   "cell_type": "code",
   "execution_count": 1,
   "metadata": {},
   "outputs": [
    {
     "name": "stdout",
     "output_type": "stream",
     "text": [
      "Addition\n",
      "Enter the number: 9\n",
      "Enter the number: 6\n",
      "Ans:  15\n",
      "Subtraction\n",
      "Enter the number: 28\n",
      "Enter the number: 16\n",
      "Ans:  12\n",
      "Multiplication\n",
      "Enter the number: 23\n",
      "Enter the number: 7\n",
      "Ans:  161\n",
      "Divison\n",
      "Enter the number: 54\n",
      "Enter the number: 2\n",
      "Ans:  27.0\n"
     ]
    }
   ],
   "source": [
    "print(\"Addition\")\n",
    "x = int(input('Enter the number: '))\n",
    "y = int(input('Enter the number: '))\n",
    "print('Ans: ',x + y)\n",
    "\n",
    "print(\"Subtraction\")\n",
    "a = int(input('Enter the number: '))\n",
    "b = int(input('Enter the number: '))\n",
    "\n",
    "print('Ans: ',a - b)\n",
    "\n",
    "print(\"Multiplication\")\n",
    "l = int(input('Enter the number: '))\n",
    "m = int(input('Enter the number: '))\n",
    "\n",
    "print('Ans: ',l*m)\n",
    "\n",
    "print(\"Divison\")\n",
    "r = int(input('Enter the number: '))\n",
    "s = int(input('Enter the number: '))\n",
    "\n",
    "print('Ans: ',r/s)"
   ]
  }
 ],
 "metadata": {
  "kernelspec": {
   "display_name": "Python 3",
   "language": "python",
   "name": "python3"
  },
  "language_info": {
   "codemirror_mode": {
    "name": "ipython",
    "version": 3
   },
   "file_extension": ".py",
   "mimetype": "text/x-python",
   "name": "python",
   "nbconvert_exporter": "python",
   "pygments_lexer": "ipython3",
   "version": "3.8.5"
  }
 },
 "nbformat": 4,
 "nbformat_minor": 4
}
